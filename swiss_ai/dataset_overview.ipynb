{
 "cells": [
  {
   "cell_type": "code",
   "execution_count": 1,
   "id": "1a8963e2-2fdc-40a5-b913-2607d1c9a721",
   "metadata": {},
   "outputs": [
    {
     "name": "stdout",
     "output_type": "stream",
     "text": [
      "/cluster/apps/nss/gcc-8.2.0/python/3.10.4/x86_64/bin/python\n"
     ]
    }
   ],
   "source": [
    "! which python"
   ]
  },
  {
   "cell_type": "code",
   "execution_count": 3,
   "id": "736d51f6-60ad-40b3-8694-05535d3002d7",
   "metadata": {},
   "outputs": [],
   "source": [
    "import pandas as pd\n",
    "import json\n",
    "import os\n",
    "import tarfile\n",
    "from tqdm.notebook import tqdm\n",
    "from flatten_dict import flatten"
   ]
  },
  {
   "cell_type": "code",
   "execution_count": 4,
   "id": "55d779b8-6a99-421c-a8f7-f76f5e1defb0",
   "metadata": {},
   "outputs": [],
   "source": [
    "DATA_DIR = \"/cluster/work/cotterell/mm_swissai/datasets\"\n",
    "DF_PATH = os.path.join(DATA_DIR, \"overview.parquet\")"
   ]
  },
  {
   "cell_type": "code",
   "execution_count": 5,
   "id": "d4f88fd3-047c-4475-99c8-0e50695c7e31",
   "metadata": {},
   "outputs": [
    {
     "data": {
      "text/plain": [
       "['howto100m', 'hdvila', 'moments_in_time']"
      ]
     },
     "execution_count": 5,
     "metadata": {},
     "output_type": "execute_result"
    }
   ],
   "source": [
    "os.listdir(DATA_DIR)"
   ]
  },
  {
   "cell_type": "code",
   "execution_count": 6,
   "id": "8cbdd17f-e66e-46cc-9013-238bfb307aae",
   "metadata": {},
   "outputs": [],
   "source": [
    "# TODO clean up file structure\n",
    "datasets = {\n",
    "    \"moments_in_time\": os.path.join(DATA_DIR, \"moments_in_time\", \"moments_in_time\"),\n",
    "    \"howto100m\": os.path.join(DATA_DIR, \"howto100m\"),\n",
    "    \"hdvila\": os.path.join(DATA_DIR, \"hdvila\", \"10000_hd_vila_shuffled\"),\n",
    "}"
   ]
  },
  {
   "cell_type": "markdown",
   "id": "c31f8fb0-0dcf-436c-b1c2-65ff88b6f130",
   "metadata": {
    "tags": []
   },
   "source": [
    "# Aggregate metadata"
   ]
  },
  {
   "cell_type": "code",
   "execution_count": 7,
   "id": "3e63eccc-3c62-4ce7-9f2f-edd158b5a8f3",
   "metadata": {},
   "outputs": [],
   "source": [
    "include_keys = [\n",
    "    \"url\",\n",
    "    \"key\",\n",
    "    \"status\",\n",
    "    \"error_message\",\n",
    "    \"yt_meta_dict.info.id\",\n",
    "    \"yt_meta_dict.info.title\",\n",
    "    \"yt_meta_dict.info.thumbnail\",\n",
    "    \"yt_meta_dict.info.channel_id\",\n",
    "    \"yt_meta_dict.info.duration\",\n",
    "    \"yt_meta_dict.info.view_count\",\n",
    "    \"yt_meta_dict.info.average_rating\",\n",
    "    \"yt_meta_dict.info.age_limit\",\n",
    "    \"yt_meta_dict.info.webpage_url\",\n",
    "    #\"yt_meta_dict.info.categories\",\n",
    "    #\"yt_meta_dict.info.tags\",\n",
    "    \"yt_meta_dict.info.comment_count\",\n",
    "    \"yt_meta_dict.info.like_count\",\n",
    "    \"yt_meta_dict.info.channel\",\n",
    "    \"yt_meta_dict.info.uploader_id\",\n",
    "    \"yt_meta_dict.info.channel_follower_count\",\n",
    "    \"yt_meta_dict.info.upload_date\",\n",
    "    \"yt_meta_dict.info.format\",\n",
    "    \"yt_meta_dict.info.format_id\",\n",
    "    \"yt_meta_dict.info.filesize_approx\",\n",
    "    \"yt_meta_dict.info.tbr\",\n",
    "    \"yt_meta_dict.info.width\",\n",
    "    \"yt_meta_dict.info.height\",\n",
    "    \"yt_meta_dict.info.resolution\",\n",
    "    \"yt_meta_dict.info.fps\",\n",
    "    \"yt_meta_dict.info.dynamic_range\",\n",
    "    \"yt_meta_dict.info.vcodec\",\n",
    "    \"yt_meta_dict.info.stretched_ratio\",\n",
    "    \"yt_meta_dict.info.aspect_ratio\",\n",
    "    \"yt_meta_dict.info.acodec\",\n",
    "    \"yt_meta_dict.info.abr\",\n",
    "    \"yt_meta_dict.info.asr\",\n",
    "    \"yt_meta_dict.info.audio_channels\",\n",
    "]"
   ]
  },
  {
   "cell_type": "code",
   "execution_count": 8,
   "id": "6e037b3e-43ad-4df8-a453-a2ea53def630",
   "metadata": {},
   "outputs": [],
   "source": [
    "import tempfile\n",
    "import imageio_ffmpeg as iio_ffmpeg\n",
    "\n",
    "\n",
    "def get_video_duration(filehandle):\n",
    "    # TODO use ffprobe and avoid tempfile\n",
    "    try:\n",
    "        with tempfile.NamedTemporaryFile(delete=True) as tmp_file:\n",
    "            tmp_file.write(filehandle.read())\n",
    "            tmp_file_path = tmp_file.name\n",
    "\n",
    "            reader = iio_ffmpeg.read_frames(tmp_file_path)\n",
    "            info = next(reader)\n",
    "            duration = info['duration']\n",
    "            return duration\n",
    "    except:\n",
    "        return None\n",
    "\n",
    "\n",
    "    \n",
    "def process_shard(dataset_dir, dataset_name, shard_key, include_keys, overwrite=False):\n",
    "    \"\"\"\n",
    "    Read all metadata files in a shard and summarize them in a parquet file\n",
    "    \"\"\"\n",
    "    tar_fname = os.path.join(dataset_dir, shard_key + \".tar\")\n",
    "    overview_fname = os.path.join(dataset_dir, shard_key + \"_meta.parquet\") # TODO v2d already creates a .parquet, reuse that instead of _meta.parquet\n",
    "    \n",
    "    if os.path.exists(overview_fname) and not overwrite:\n",
    "        return overview_fname\n",
    " \n",
    "    df = pd.DataFrame(columns=include_keys + [\"shard_key\", \"original_dataset\", \"video_duration\"])\n",
    "    with tarfile.open(os.path.join(dataset_dir, tar_fname), \"r\") as tar:\n",
    "        for json_fname in tar.getnames():\n",
    "            if not json_fname.endswith(\".json\"):\n",
    "                continue\n",
    "\n",
    "            idx = len(df)\n",
    "            with tar.extractfile(json_fname) as f:\n",
    "                row = flatten(json.loads(f.read()), reducer=\"dot\")\n",
    "                \n",
    "            if row.get(\"status\") != \"success\":\n",
    "                continue\n",
    "\n",
    "            row = {k: row.get(k, None) for k in include_keys}\n",
    "            row[\"shard_key\"] = shard_key\n",
    "            row[\"original_dataset\"] = dataset_name\n",
    "            if row.get(\"yt_meta_dict.info.duration\") is None:\n",
    "                # e.g. MiT is not from youtube -> read length, this is slow\n",
    "                with tar.extractfile(json_fname.replace(\".json\", \".mp4\")) as f_video:\n",
    "                    row[\"video_duration\"] = get_video_duration(f_video)\n",
    "            else:\n",
    "                row[\"video_duration\"] = row[\"yt_meta_dict.info.duration\"]\n",
    "\n",
    "                                              \n",
    "\n",
    "            df.loc[idx] = row\n",
    "            \n",
    "    df.to_parquet(overview_fname)\n",
    "    return overview_fname\n"
   ]
  },
  {
   "cell_type": "code",
   "execution_count": 9,
   "id": "940aa71f-c2d9-4c72-91c5-f9af685988e5",
   "metadata": {},
   "outputs": [
    {
     "name": "stdout",
     "output_type": "stream",
     "text": [
      "Processing in parallel with 32 workers (make sure this makes sense given your number of cores)\n"
     ]
    },
    {
     "data": {
      "application/vnd.jupyter.widget-view+json": {
       "model_id": "05810b4ff5a54deeb22b7611e34b399a",
       "version_major": 2,
       "version_minor": 0
      },
      "text/plain": [
       "Processing shards for moments_in_time:   0%|          | 0/305 [00:00<?, ?it/s]"
      ]
     },
     "metadata": {},
     "output_type": "display_data"
    },
    {
     "data": {
      "application/vnd.jupyter.widget-view+json": {
       "model_id": "916aad7fd3b144128117ff1204ba0d87",
       "version_major": 2,
       "version_minor": 0
      },
      "text/plain": [
       "Processing shards for howto100m:   0%|          | 0/3 [00:00<?, ?it/s]"
      ]
     },
     "metadata": {},
     "output_type": "display_data"
    },
    {
     "data": {
      "application/vnd.jupyter.widget-view+json": {
       "model_id": "7710d29d50d74abf973d61c7450b32de",
       "version_major": 2,
       "version_minor": 0
      },
      "text/plain": [
       "Processing shards for hdvila:   0%|          | 0/1000 [00:00<?, ?it/s]"
      ]
     },
     "metadata": {},
     "output_type": "display_data"
    }
   ],
   "source": [
    "from concurrent.futures import ProcessPoolExecutor, as_completed  # this should probably be computed via v2d instead\n",
    "assert not os.path.exists(DF_PATH), \"overview dataframe already computed\"\n",
    "\n",
    "df = pd.DataFrame(columns=include_keys + [\"shard_key\", \"original_dataset\"])\n",
    "\n",
    "n_workers = 32\n",
    "print(f\"Processing in parallel with {n_workers} workers (make sure this makes sense given your number of cores)\")\n",
    "\n",
    "for dataset_name, dataset_dir in datasets.items():\n",
    "    shard_keys = sorted(x.replace(\".tar\", \"\") for x in os.listdir(dataset_dir) if x.endswith(\".tar\"))\n",
    "    n_shards = len(shard_keys)\n",
    "    \n",
    "    # process shards in parallel\n",
    "    with ProcessPoolExecutor(max_workers=n_workers) as executor:\n",
    "        futures = [\n",
    "            executor.submit(\n",
    "                process_shard,\n",
    "                dataset_dir,\n",
    "                dataset_name,\n",
    "                shard_key,\n",
    "                include_keys,\n",
    "                False\n",
    "            ) for shard_key in shard_keys\n",
    "        ]\n",
    "        \n",
    "        results = []\n",
    "        for future in tqdm(as_completed(futures), total=len(futures), desc=f\"Processing shards for {dataset_name}\"):\n",
    "            shard_overview_fname = future.result()\n",
    "            results.append(shard_overview_fname)\n",
    "            df_shard = pd.read_parquet(shard_overview_fname)\n",
    "            df = pd.concat([df, df_shard], ignore_index=True)\n",
    "            \n",
    "df.to_parquet(DF_PATH)           "
   ]
  },
  {
   "cell_type": "code",
   "execution_count": 10,
   "id": "2048fd32-9f73-4870-b79b-cafc5af26756",
   "metadata": {},
   "outputs": [],
   "source": [
    "DF_PATH = \"/cluster/scratch/scanton/overview.parquet\"\n",
    "df.to_parquet(DF_PATH)"
   ]
  },
  {
   "cell_type": "markdown",
   "id": "57d7f107-26d2-4f2e-a33a-79bcdcbb36e7",
   "metadata": {},
   "source": [
    "# Read Metadata"
   ]
  },
  {
   "cell_type": "code",
   "execution_count": 45,
   "id": "92a1ed94-6ed8-4337-a33e-4788649fa4ff",
   "metadata": {},
   "outputs": [],
   "source": [
    "df = pd.read_parquet(DF_PATH)"
   ]
  },
  {
   "cell_type": "markdown",
   "id": "4f2a0a39-2bbe-4c3d-895a-c27640fdc21e",
   "metadata": {},
   "source": [
    "# Analyze"
   ]
  },
  {
   "cell_type": "code",
   "execution_count": 46,
   "id": "a5ee4095-3a76-47d7-8204-3be5fe79b0f8",
   "metadata": {},
   "outputs": [],
   "source": [
    "import matplotlib.pyplot as plt\n",
    "import numpy as np"
   ]
  },
  {
   "cell_type": "code",
   "execution_count": 47,
   "id": "27e50e66-4ef7-4ef6-a287-72b5ecfc0b86",
   "metadata": {},
   "outputs": [
    {
     "data": {
      "text/html": [
       "<div>\n",
       "<style scoped>\n",
       "    .dataframe tbody tr th:only-of-type {\n",
       "        vertical-align: middle;\n",
       "    }\n",
       "\n",
       "    .dataframe tbody tr th {\n",
       "        vertical-align: top;\n",
       "    }\n",
       "\n",
       "    .dataframe thead th {\n",
       "        text-align: right;\n",
       "    }\n",
       "</style>\n",
       "<table border=\"1\" class=\"dataframe\">\n",
       "  <thead>\n",
       "    <tr style=\"text-align: right;\">\n",
       "      <th></th>\n",
       "      <th>Total_Num_Videos</th>\n",
       "      <th>Total_Duration_Seconds</th>\n",
       "      <th>Total_Duration_Hours</th>\n",
       "    </tr>\n",
       "    <tr>\n",
       "      <th>original_dataset</th>\n",
       "      <th></th>\n",
       "      <th></th>\n",
       "      <th></th>\n",
       "    </tr>\n",
       "  </thead>\n",
       "  <tbody>\n",
       "    <tr>\n",
       "      <th>hdvila</th>\n",
       "      <td>9066</td>\n",
       "      <td>3411028.28</td>\n",
       "      <td>947.507856</td>\n",
       "    </tr>\n",
       "    <tr>\n",
       "      <th>howto100m</th>\n",
       "      <td>196</td>\n",
       "      <td>49860.40</td>\n",
       "      <td>13.850111</td>\n",
       "    </tr>\n",
       "    <tr>\n",
       "      <th>moments_in_time</th>\n",
       "      <td>757764</td>\n",
       "      <td>2287179.56</td>\n",
       "      <td>635.327656</td>\n",
       "    </tr>\n",
       "  </tbody>\n",
       "</table>\n",
       "</div>"
      ],
      "text/plain": [
       "                  Total_Num_Videos  Total_Duration_Seconds  \\\n",
       "original_dataset                                             \n",
       "hdvila                        9066              3411028.28   \n",
       "howto100m                      196                49860.40   \n",
       "moments_in_time             757764              2287179.56   \n",
       "\n",
       "                  Total_Duration_Hours  \n",
       "original_dataset                        \n",
       "hdvila                      947.507856  \n",
       "howto100m                    13.850111  \n",
       "moments_in_time             635.327656  "
      ]
     },
     "metadata": {},
     "output_type": "display_data"
    }
   ],
   "source": [
    "summary_df = df.groupby('original_dataset')['video_duration'].agg(\n",
    "    Total_Num_Videos = 'count',\n",
    "    Total_Duration_Seconds = 'sum',\n",
    "    Total_Duration_Hours = lambda x: x.sum() / 3600,\n",
    ")\n",
    "display(summary_df)"
   ]
  },
  {
   "cell_type": "code",
   "execution_count": 48,
   "id": "f659f7ab-bed4-40dd-b930-9a6190b15665",
   "metadata": {},
   "outputs": [
    {
     "data": {
      "image/png": "[encoded data removed]",
      "text/plain": [
       "<Figure size 720x720 with 3 Axes>"
      ]
     },
     "metadata": {
      "needs_background": "light"
     },
     "output_type": "display_data"
    }
   ],
   "source": [
    "fig, axs = plt.subplots(df.original_dataset.nunique(), figsize=(10, 10))\n",
    "\n",
    "bins = np.logspace(np.log10(df.video_duration.min()), np.log10(df.video_duration.max()), num=40)\n",
    "\n",
    "\n",
    "for ax, ds_name in zip(axs, df.original_dataset.unique()):\n",
    "\n",
    "    ax.hist(df[df.original_dataset == ds_name].video_duration, bins=bins)\n",
    "    ax.set_xscale(\"log\")\n",
    "    \n",
    "    # Labeling\n",
    "    ax.set_title(ds_name)\n",
    "    ax.set_xlabel('Video Duration in sec (log scale)')\n",
    "    ax.set_ylabel('Frequency')\n",
    "\n",
    "fig.tight_layout()"
   ]
  },
  {
   "cell_type": "code",
   "execution_count": null,
   "id": "074949f8-b23d-4549-b8ec-24874eea992e",
   "metadata": {},
   "outputs": [],
   "source": []
  },
  {
   "cell_type": "code",
   "execution_count": null,
   "id": "649667b0-a28b-4d7d-abeb-d322558db66c",
   "metadata": {},
   "outputs": [],
   "source": []
  }
 ],
 "metadata": {
  "kernelspec": {
   "display_name": "Python 3 (ipykernel)",
   "language": "python",
   "name": "python3"
  },
  "language_info": {
   "codemirror_mode": {
    "name": "ipython",
    "version": 3
   },
   "file_extension": ".py",
   "mimetype": "text/x-python",
   "name": "python",
   "nbconvert_exporter": "python",
   "pygments_lexer": "ipython3",
   "version": "3.10.4"
  }
 },
 "nbformat": 4,
 "nbformat_minor": 5
}
